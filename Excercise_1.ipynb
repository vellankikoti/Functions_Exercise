{
 "cells": [
  {
   "cell_type": "markdown",
   "metadata": {},
   "source": [
    "### 1. Write a Python function miles_to_feet that takes a parameter miles and returns the number of feet in miles miles. "
   ]
  },
  {
   "cell_type": "code",
   "execution_count": 2,
   "metadata": {},
   "outputs": [
    {
     "name": "stdout",
     "output_type": "stream",
     "text": [
      "Enter Number of Miles:13\n",
      "13.0 miles is equal to 68640.0 feets.\n"
     ]
    }
   ],
   "source": [
    "def miles_to_feet(miles):\n",
    "    feets = miles * 5280\n",
    "    return feets\n",
    "\n",
    "miles = float(input('Enter Number of Miles:'))\n",
    "\n",
    "print('{} miles is equal to {} feets.'.format(miles,miles_to_feet(miles)))"
   ]
  },
  {
   "cell_type": "markdown",
   "metadata": {},
   "source": [
    "### 2. Write a Python function total_seconds that takes three parameters hours,minutes and seconds and returns the total number of seconds for hours minutes and seconds. "
   ]
  },
  {
   "cell_type": "code",
   "execution_count": 3,
   "metadata": {},
   "outputs": [
    {
     "name": "stdout",
     "output_type": "stream",
     "text": [
      "How Many Hours?5\n",
      "How Many Minutes?:6\n",
      "How Many Seconds?:7\n",
      "5 hours, 6 minutes, 7 seconds means total 18367 seconds\n"
     ]
    }
   ],
   "source": [
    "def total_seconds(hours,minutes,seconds):\n",
    "    return hours*60*60 + minutes*60 + seconds\n",
    "\n",
    "hours = int(input('How Many Hours?'))\n",
    "minutes = int(input('How Many Minutes?:'))\n",
    "seconds = int(input('How Many Seconds?:'))\n",
    "\n",
    "print('{} hours, {} minutes, {} seconds means total {} seconds'.format(hours,minutes,seconds,total_seconds(hours,minutes,seconds)))"
   ]
  },
  {
   "cell_type": "markdown",
   "metadata": {},
   "source": [
    "### 3. Write a Python function rectangle_perimeter that takes two parameters width and height corresponding to the lengths of the sides of a rectangle and returns the perimeter of the rectangle in inches."
   ]
  },
  {
   "cell_type": "code",
   "execution_count": 4,
   "metadata": {},
   "outputs": [
    {
     "name": "stdout",
     "output_type": "stream",
     "text": [
      "Enter Width :4\n",
      "Enter Height :5\n",
      "If The Rectangle Width 4 and Height 5 then it's Perimeter is 18\n"
     ]
    }
   ],
   "source": [
    "def rectangle_perimeter(width,height):\n",
    "    return 2 * (width + height)\n",
    "\n",
    "width = int(input('Enter Width :'))\n",
    "height = int(input('Enter Height :'))\n",
    "\n",
    "print('If The Rectangle Width {} and Height {} then it\\'s Perimeter is {}'.format(width, height,rectangle_perimeter(width,height)))"
   ]
  },
  {
   "cell_type": "markdown",
   "metadata": {},
   "source": [
    "### 4. Write a Python function rectangle_area that takes two parameters width and height corresponding to the lengths of the sides of a rectangle and returns the area of the rectangle in square inches."
   ]
  },
  {
   "cell_type": "code",
   "execution_count": 5,
   "metadata": {},
   "outputs": [
    {
     "name": "stdout",
     "output_type": "stream",
     "text": [
      "Enter Width :4\n",
      "Enter Height :5\n",
      "If the Rectangle Width 4 and Height 5 then it's Area is 20\n"
     ]
    }
   ],
   "source": [
    "def rectangle_area(width,height):\n",
    "    return width * height\n",
    "\n",
    "width = int(input('Enter Width :'))\n",
    "height = int(input('Enter Height :'))\n",
    "\n",
    "print('If the Rectangle Width {} and Height {} then it\\'s Area is {}'.format(width, height,rectangle_area(width,height)))"
   ]
  },
  {
   "cell_type": "markdown",
   "metadata": {},
   "source": [
    "### 5. Write a Python function circle_circumference that takes a single parameter radius corresponding to the radius of a circle in inches and returns the the circumference of a circle with radius radius in inches. Do not use π=3.14, instead use the math module to supply a higher-precision approximation to π."
   ]
  },
  {
   "cell_type": "code",
   "execution_count": 6,
   "metadata": {},
   "outputs": [
    {
     "name": "stdout",
     "output_type": "stream",
     "text": [
      "Enter radius:5\n",
      "If the circle has radis 5.0 then it's circumference is 31.41592653589793 \n"
     ]
    }
   ],
   "source": [
    "from math import *\n",
    "\n",
    "def circle_circumference(radius):\n",
    "    return 2 * pi * radius\n",
    "\n",
    "radius = float(input('Enter radius:'))\n",
    "\n",
    "print('If the circle has radis {} then it\\'s circumference is {} '.format(radius,circle_circumference(radius)))"
   ]
  },
  {
   "cell_type": "markdown",
   "metadata": {},
   "source": [
    "### 6. Write a Python function circle_area that takes a single parameter radius corresponding to the radius of a circle in inches and returns the the area of a circle with radius radius in inches. Do not use π=3.14, instead use the math module to supply a higher-precision approximation to π."
   ]
  },
  {
   "cell_type": "code",
   "execution_count": 7,
   "metadata": {},
   "outputs": [
    {
     "name": "stdout",
     "output_type": "stream",
     "text": [
      "Enter radius:5\n",
      "If the circle has radis 5.0 then it's area is 78.53981633974483 \n"
     ]
    }
   ],
   "source": [
    "from math import *\n",
    "\n",
    "def circle_area(radius):\n",
    "    return pi * radius ** 2\n",
    "\n",
    "radius = float(input('Enter radius:'))\n",
    "\n",
    "print('If the circle has radis {} then it\\'s area is {} '.format(radius,circle_area(radius)))"
   ]
  },
  {
   "cell_type": "markdown",
   "metadata": {},
   "source": [
    "### 7. Write a Python function future_value that takes three parameters present_value, annual_rate and years and returns the future value of present_value dollars invested at annual_rate percent interest, compounded annually for years."
   ]
  },
  {
   "cell_type": "code",
   "execution_count": 8,
   "metadata": {},
   "outputs": [
    {
     "name": "stdout",
     "output_type": "stream",
     "text": [
      "Enter Amount:1500\n",
      "Enter Rate of Interest:5\n",
      "Enter the Time Period:10\n",
      "1500.0 $ will be 2443.341940166163 in 10 years with Annual rate of 5.0 \n"
     ]
    }
   ],
   "source": [
    "def future_value(present_value,annual_rate,years):\n",
    "    return present_value * (1 + 0.01 * annual_rate) ** years\n",
    "\n",
    "present_value = float(input('Enter Amount:'))\n",
    "annual_rate = float((input('Enter Rate of Interest:')))\n",
    "years = int(input('Enter the Time Period:'))\n",
    "\n",
    "print('{} $ will be {} in {} years with Annual rate of {} '.format(present_value,future_value(present_value,annual_rate,years),years,annual_rate))"
   ]
  },
  {
   "cell_type": "markdown",
   "metadata": {},
   "source": [
    "### 8. Write a Python function name_tag that takes as input the parameters first_name and last_name (strings) and returns a string of the form \"My name is % %.\"Mynameis%%.\" where the percents are the strings first_name and last_name. Reference the test cases in the provided template for an exact description of the format of the returned string"
   ]
  },
  {
   "cell_type": "code",
   "execution_count": 9,
   "metadata": {},
   "outputs": [
    {
     "name": "stdout",
     "output_type": "stream",
     "text": [
      "Enter Your First Name:Koti\n",
      "Enter Your Last Name:Vellanki\n",
      "Your name is Koti Vellanki \n"
     ]
    }
   ],
   "source": [
    "def name_tag(first_name,last_name):\n",
    "    return first_name + ' '+ last_name\n",
    "\n",
    "first_name = input('Enter Your First Name:')\n",
    "last_name = input('Enter Your Last Name:')\n",
    "\n",
    "print('Your name is {} '.format(name_tag(first_name,last_name)))"
   ]
  },
  {
   "cell_type": "markdown",
   "metadata": {},
   "source": [
    "### 9. Write a Python function name_and_age that takes as input the parameters name (a string) and age (a number) and returns a string of the form \"% is % years old.%is%yearsold.\" where the percents are the string forms of name and age. "
   ]
  },
  {
   "cell_type": "code",
   "execution_count": 10,
   "metadata": {},
   "outputs": [
    {
     "name": "stdout",
     "output_type": "stream",
     "text": [
      "Enter Your Name:Koti\n",
      "Enter Your Age:23\n",
      "Koti is 23 Years old.\n"
     ]
    }
   ],
   "source": [
    "def name_and_age(name,age):\n",
    "    return name + ' is '+ str(age)+' Years old.'\n",
    "\n",
    "name = input('Enter Your Name:')\n",
    "age = input('Enter Your Age:')\n",
    "\n",
    "print(name_and_age(name,age))"
   ]
  },
  {
   "cell_type": "markdown",
   "metadata": {},
   "source": [
    "### 10. Write a Python function point_distance that takes as the parameters x0, y0, x1 and y1, and returns the distance between the points (x0,y0) and (x1, y1)."
   ]
  },
  {
   "cell_type": "code",
   "execution_count": 11,
   "metadata": {},
   "outputs": [
    {
     "name": "stdout",
     "output_type": "stream",
     "text": [
      "Enter 1st point X-Coordinate:1\n",
      "Enter 1st point Y-Coordinate:2\n",
      "Enter 2nd point X-Coordinate:3\n",
      "Enter 2nd point Y-Coordinate:4\n",
      "The distance between (1,2) and (3,4) is 2.8284271247461903\n"
     ]
    }
   ],
   "source": [
    "def point_distane(x0,y0,x1,y1):\n",
    "    return ((x1-x0)**2 + (y1-y0)**2)**0.5\n",
    "\n",
    "x0 = int(input('Enter 1st point X-Coordinate:'))\n",
    "y0 = int(input('Enter 1st point Y-Coordinate:'))\n",
    "x1 = int(input('Enter 2nd point X-Coordinate:'))\n",
    "y1 = int(input('Enter 2nd point Y-Coordinate:'))\n",
    "\n",
    "print('The distance between ({},{}) and ({},{}) is {}'.format(x0,y0,x1,y1,point_distane(x0,y0,x1,y1)))"
   ]
  },
  {
   "cell_type": "markdown",
   "metadata": {},
   "source": [
    "### 11. Write a Python function triangle_area that takes the parameters x0, y0, x1, y1, x2, and y2, and returns the area of the triangle with vertices (x0,y0), (x1, y1) and (x2,y2).\n",
    "#### (Hint: use the function point_distance as a helper function and apply Heron's formula.) "
   ]
  },
  {
   "cell_type": "code",
   "execution_count": 12,
   "metadata": {},
   "outputs": [
    {
     "name": "stdout",
     "output_type": "stream",
     "text": [
      "Enter 1st point X-Coordinate:1\n",
      "Enter 1st point Y-Coordinate:2\n",
      "Enter 2nd point X-Coordinate:3\n",
      "Enter 2nd point Y-Coordinate:4\n",
      "Enter 3rd point X-Coordinate:5\n",
      "Enter 3rd point Y-Coordinate:6\n",
      "The Area of the Triangle with Vertices (1,2),(3,4) and (5,6) is 0.0\n"
     ]
    }
   ],
   "source": [
    "def point_distane(x0,y0,x1,y1):\n",
    "    return ((x1-x0)**2 + (y1-y0)**2)**0.5\n",
    "\n",
    "x0 = int(input('Enter 1st point X-Coordinate:'))\n",
    "y0 = int(input('Enter 1st point Y-Coordinate:'))\n",
    "x1 = int(input('Enter 2nd point X-Coordinate:'))\n",
    "y1 = int(input('Enter 2nd point Y-Coordinate:'))\n",
    "x2 = int(input('Enter 3rd point X-Coordinate:'))\n",
    "y2 = int(input('Enter 3rd point Y-Coordinate:'))\n",
    "\n",
    "def triangle_area(x0,y0,x1,y1,x2,y2):\n",
    "    a= point_distane(x0,y0,x1,y1)\n",
    "    b = point_distane(x0,y0,x2,y2)\n",
    "    c = point_distane(x1,y1,x2,y2)\n",
    "    \n",
    "    s = (a+b+c)/2\n",
    "    return (s*(s-a)*(s-b)*(s-c))**0.5\n",
    "\n",
    "print('The Area of the Triangle with Vertices ({},{}),({},{}) and ({},{}) is {}'.format(x0,y0,x1,y1,x2,y2,triangle_area(x0,y0,x1,y1,x2,y2)))"
   ]
  },
  {
   "cell_type": "markdown",
   "metadata": {},
   "source": [
    " ### 12. Write a Python function print_digits that takes an integer number in the range [0,100), i.e., at least 0, but less than 100. It prints the message The tens digit is%,and the ones digitis%.\", where the percent signs should be replaced with the appropriate values. \n",
    "#### (Hint: Use the arithmetic operators for integer division // and remainder % to find the two digits. Note that this function should print the desired message, rather than returning it as a string."
   ]
  },
  {
   "cell_type": "code",
   "execution_count": 13,
   "metadata": {},
   "outputs": [
    {
     "name": "stdout",
     "output_type": "stream",
     "text": [
      "Enter a Number:54\n",
      "Tens Digit is  5\n",
      "Ones Digit is  4\n"
     ]
    }
   ],
   "source": [
    "def print_digits(num):\n",
    "    print('Tens Digit is ',num//10)\n",
    "    print('Ones Digit is ',num%10)\n",
    "    \n",
    "num = int(input('Enter a Number:'))\n",
    "print_digits(num)"
   ]
  },
  {
   "cell_type": "markdown",
   "metadata": {},
   "source": [
    "### 13. Powerball is lottery game in which 6 numbers are drawn at random. Players can purchase a lottery ticket with a specific number combination and, if the number on the ticket matches the numbers generated in a random drawing, the player wins a massive jackpot. Write a Python function powerball that takes no arguments and prints the message Today’s numbers are %,%,%,%,and%. The Powerball number is%.\". The first five numbers should be random integers in the range [1,60), i.e., at least 1, but less than 60. In reality, these five numbers must all be distinct, but for this problem, we will allow duplicates. The Powerball number is a random integer in the range [1,36), i.e., at least 1 but less than 36. Use the random module and the function random.randrange to generate the appropriate random numbers. Note that this function should print the desired message, rather than returning it as a string."
   ]
  },
  {
   "cell_type": "code",
   "execution_count": 14,
   "metadata": {},
   "outputs": [
    {
     "name": "stdout",
     "output_type": "stream",
     "text": [
      "Today's Numbers are : 27\n",
      "Today's Numbers are : 26\n",
      "Today's Numbers are : 14\n",
      "Today's Numbers are : 15\n",
      "Today's Numbers are : 22\n",
      "The Powerball number is : 22\n",
      "You Got The Jackpot!!!\n"
     ]
    }
   ],
   "source": [
    "import random\n",
    "\n",
    "def powerball():\n",
    "    n1 = random.randrange(1,60)\n",
    "    print('Today\\'s Numbers are :',n1)\n",
    "    n2 = random.randrange(1,60)\n",
    "    print('Today\\'s Numbers are :',n2)\n",
    "    n3 = random.randrange(1,60)\n",
    "    print('Today\\'s Numbers are :',n3)\n",
    "    n4 = random.randrange(1,60)\n",
    "    print('Today\\'s Numbers are :',n4)\n",
    "    n5 = random.randrange(1,60)\n",
    "    print('Today\\'s Numbers are :',n5)\n",
    "    \n",
    "    choice = random.randrange(1,36)\n",
    "    print('The Powerball number is :',choice)\n",
    "    \n",
    "    numbers = [n1,n2,n3,n4,n5]\n",
    "#     print(numbers)\n",
    "    for number in numbers:\n",
    "#         print(number)\n",
    "        if choice == number:\n",
    "            print('You Got The Jackpot!!!')\n",
    "            break\n",
    "    else:\n",
    "        print('Bad Luck...Try Again')\n",
    "        \n",
    "powerball()"
   ]
  },
  {
   "cell_type": "code",
   "execution_count": null,
   "metadata": {},
   "outputs": [],
   "source": []
  }
 ],
 "metadata": {
  "kernelspec": {
   "display_name": "Python 3",
   "language": "python",
   "name": "python3"
  },
  "language_info": {
   "codemirror_mode": {
    "name": "ipython",
    "version": 3
   },
   "file_extension": ".py",
   "mimetype": "text/x-python",
   "name": "python",
   "nbconvert_exporter": "python",
   "pygments_lexer": "ipython3",
   "version": "3.6.5"
  }
 },
 "nbformat": 4,
 "nbformat_minor": 2
}
